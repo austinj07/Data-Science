{
 "cells": [
  {
   "cell_type": "code",
   "execution_count": 10,
   "id": "770c9681-34eb-42ea-93e3-68e4b142c30f",
   "metadata": {},
   "outputs": [],
   "source": [
    "import os\n",
    "from time import time\n",
    "from tqdm import tqdm\n",
    "import numpy as np\n",
    "from PIL import Image\n",
    "import torch\n",
    "from torch.nn import Linear, CrossEntropyLoss\n",
    "from torch.optim import Adam\n",
    "from torch.utils.data import DataLoader\n",
    "\n",
    "import torchvision\n",
    "from torchvision.datasets import ImageFolder\n",
    "from torchvision.models import resnet18\n",
    "import torchvision.models as models\n",
    "from torchvision.transforms import transforms\n",
    "from torchvision.models import ResNet18_Weights\n",
    "device = torch.device(\"cuda\" if torch.cuda.is_available() else \"cpu\") # if your computer has cuda (gpu) it will use it if not it will use gpu"
   ]
  },
  {
   "cell_type": "code",
   "execution_count": 3,
   "id": "ee18b73c-1ba5-42f1-90f9-602d85dbff71",
   "metadata": {},
   "outputs": [
    {
     "name": "stdout",
     "output_type": "stream",
     "text": [
      "925 661\n",
      "{'IDC': 0, 'Non-IDC': 1}\n"
     ]
    }
   ],
   "source": [
    "#Create transformer. Will fit data to enter resnet model\n",
    "\n",
    "tfm = transforms.Compose([\n",
    "    transforms.Resize((224, 224)), #standard size of images for resnet\n",
    "    transforms.RandomHorizontalFlip(),\n",
    "    transforms.RandomRotation(degrees = 10),\n",
    "    transforms.ToTensor(),\n",
    "    transforms.Normalize([0.485, 0.456, 0.406], [0.229, 0.224, 0.225]) #normalize pictures to fit imagenet format\n",
    "])\n",
    "\n",
    "#Create dataset into image folder\n",
    "\n",
    "TRAIN_ROOT = \"/Users/austinjohnson/Downloads/Breast Cancer/train\"\n",
    "TEST_ROOT = \"/Users/austinjohnson/Downloads/Breast Cancer/test\"\n",
    "\n",
    "train_ds = ImageFolder(TRAIN_ROOT, transform=tfm)\n",
    "test_ds = ImageFolder(TEST_ROOT, transform=tfm)\n",
    "\n",
    "LEN_TRAIN = len(train_ds) #925\n",
    "LEN_TEST = len(test_ds) #661\n",
    "print(LEN_TRAIN, LEN_TEST)\n",
    "\n",
    "\n",
    "print(train_ds.class_to_idx) #maps IDC to 0 and Non_IDC to 1"
   ]
  },
  {
   "cell_type": "code",
   "execution_count": 4,
   "id": "bae503c3-3656-40cb-95ee-ad21ac966d27",
   "metadata": {},
   "outputs": [],
   "source": [
    "# Data Loader\n",
    "train_loader = DataLoader(train_ds, batch_size = 30, shuffle = True)\n",
    "test_loader = DataLoader(test_ds, batch_size = 30, shuffle = True)\n",
    "#better computers can handle higher batch sizes\n",
    "#lower batch size the less strain on gpu/cpu\n",
    "#higher batch sizes do create a higher accuracy though"
   ]
  },
  {
   "cell_type": "code",
   "execution_count": 5,
   "id": "2d9d7c73-8a8e-4c3d-aa0a-567ac6a7d2aa",
   "metadata": {},
   "outputs": [],
   "source": [
    "#Build Model!!\n",
    "\n",
    "model = models.resnet18(weights = ResNet18_Weights.DEFAULT)\n",
    "#replace the final (fully connected) layer with what we want\n",
    "#input features remain the same\n",
    "model.fc = Linear(in_features = 512, out_features = 2) #we have 2 outputs\n",
    "\n",
    "model = model.to(device) # move model to gpu\n",
    "\n",
    "#Optimizer\n",
    "optimizer = Adam(model.parameters(), lr=3e-4, weight_decay=0.001)\n",
    "#lr = learning rate 3e-4 is best learning rate for adam\n",
    "#weight decay helps prevent model overfitting\n",
    "\n",
    "#Loss Function\n",
    "loss_fn = CrossEntropyLoss()"
   ]
  },
  {
   "cell_type": "code",
   "execution_count": 6,
   "id": "4bb73ce1-73b1-4797-b527-1181ea97d937",
   "metadata": {},
   "outputs": [
    {
     "name": "stderr",
     "output_type": "stream",
     "text": [
      "100%|████████████████████████████████████████| 31/31 [01:06<00:00,  2.15s/batch]\n"
     ]
    },
    {
     "name": "stdout",
     "output_type": "stream",
     "text": [
      "Epoch: 0, Time: 1.3974175651868184, Loss: 0.0635816752910614 \n",
      "Train_acc: 0.9394594594594594, Test_acc: 0.7700453857791225\n"
     ]
    },
    {
     "name": "stderr",
     "output_type": "stream",
     "text": [
      "100%|████████████████████████████████████████| 31/31 [01:05<00:00,  2.12s/batch]\n"
     ]
    },
    {
     "name": "stdout",
     "output_type": "stream",
     "text": [
      "Epoch: 1, Time: 1.3914691964785257, Loss: 0.030123181641101837 \n",
      "Train_acc: 0.9783783783783784, Test_acc: 0.7760968229954615\n"
     ]
    },
    {
     "name": "stderr",
     "output_type": "stream",
     "text": [
      "100%|████████████████████████████████████████| 31/31 [01:05<00:00,  2.11s/batch]\n"
     ]
    },
    {
     "name": "stdout",
     "output_type": "stream",
     "text": [
      "Epoch: 2, Time: 1.3777387539545696, Loss: 0.022034022957086563 \n",
      "Train_acc: 0.985945945945946, Test_acc: 0.7670196671709532\n"
     ]
    }
   ],
   "source": [
    "# Train Model (3 epochs)\n",
    "for epoch in range(3):\n",
    "    start = time()\n",
    "    tr_acc = 0\n",
    "    test_acc = 0\n",
    "\n",
    "    model.train()\n",
    "\n",
    "    #progress bar\n",
    "    with tqdm(train_loader, unit=\"batch\") as tepoch:\n",
    "        for xtrain, ytrain in tepoch: #for every iteration in train datasets\n",
    "            optimizer.zero_grad()\n",
    "\n",
    "            xtrain = xtrain.to(device) #both model and input need to be on the same device\n",
    "            train_prob = model(xtrain) #output of model based\n",
    "            train_prob = train_prob.cpu() #prevent maxing out gpu memory\n",
    "\n",
    "            #calculate loss\n",
    "            loss = loss_fn(train_prob, ytrain) #compare model output to actual output\n",
    "            loss.backward() #backpropagation\n",
    "            optimizer.step() #update model parameters (weights)\n",
    "\n",
    "            # training ends\n",
    "\n",
    "            train_pred = torch.max(train_prob, 1).indices #converts from probabilities to 1 and 0 (true and false)\n",
    "            tr_acc += int(torch.sum(train_pred == ytrain)) #adds number of trues\n",
    "\n",
    "        ep_tr_acc = tr_acc / LEN_TRAIN\n",
    "\n",
    "\n",
    "    #Evaluate\n",
    "    model.eval()\n",
    "    with torch.no_grad(): # don't update gradients\n",
    "        for xtest, ytest in test_loader:\n",
    "            xtest = xtest.to(device)\n",
    "            test_prob = model(xtest)\n",
    "            test_prob = test_prob.cpu()\n",
    "\n",
    "            test_pred = torch.max(test_prob, 1).indices\n",
    "            test_acc += int(torch.sum(test_pred == ytest))\n",
    "\n",
    "        ep_test_acc = test_acc / LEN_TEST\n",
    "\n",
    "    end = time()\n",
    "    duration = (end - start) / 60\n",
    "\n",
    "    print(f\"Epoch: {epoch}, Time: {duration}, Loss: {loss} \\nTrain_acc: {ep_tr_acc}, Test_acc: {ep_test_acc}\")\n"
   ]
  },
  {
   "cell_type": "code",
   "execution_count": 24,
   "id": "53887189-738c-4517-b3e9-2d9c6547c5e6",
   "metadata": {},
   "outputs": [
    {
     "name": "stdout",
     "output_type": "stream",
     "text": [
      "IDC\n"
     ]
    }
   ],
   "source": [
    "sample_1 = \"/Users/austinjohnson/Downloads/Sample Breast Cancer/9259/aojsdfbajsfd.png\" #IDC\n",
    "sample_2 = \"/Users/austinjohnson/Downloads/Non Cancerous/9259_idx5_x1701_y451_class0.png\" #NonIDC\n",
    "\n",
    "img = Image.open(sample_1)\n",
    "img_tensor = tfm(img)\n",
    "\n",
    "# print(img_tensor.shape) input size for our model should be 4 dimensions our batches had 4 dimensions\n",
    "\n",
    "img_tensor = img_tensor[np.newaxis, : ]\n",
    "img_tensor = img_tensor.to(device)\n",
    "\n",
    "pred_prob = model(img_tensor)\n",
    "pred = torch.max(pred_prob, 1).indices\n",
    "pred = pred.item()\n",
    "\n",
    "if(pred == 0):\n",
    "    print(\"IDC\")\n",
    "else:\n",
    "    print(\"Non-IDC\")\n"
   ]
  },
  {
   "cell_type": "code",
   "execution_count": null,
   "id": "4caaef6d-b84e-4d60-ac5b-2a412248c03b",
   "metadata": {},
   "outputs": [],
   "source": []
  }
 ],
 "metadata": {
  "kernelspec": {
   "display_name": "Python 3 (ipykernel)",
   "language": "python",
   "name": "python3"
  },
  "language_info": {
   "codemirror_mode": {
    "name": "ipython",
    "version": 3
   },
   "file_extension": ".py",
   "mimetype": "text/x-python",
   "name": "python",
   "nbconvert_exporter": "python",
   "pygments_lexer": "ipython3",
   "version": "3.11.5"
  }
 },
 "nbformat": 4,
 "nbformat_minor": 5
}
